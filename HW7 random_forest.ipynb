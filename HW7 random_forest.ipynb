{
 "cells": [
  {
   "cell_type": "code",
   "execution_count": 3,
   "metadata": {},
   "outputs": [
    {
     "name": "stdout",
     "output_type": "stream",
     "text": [
      "My name is {Zijie Lin}\n",
      "My NetID is: {zlin36}\n",
      "I hereby certify that I have read the University policy on Academic Integrity and that I am not in violation.\n",
      "   ID  LIMIT_BAL  SEX  EDUCATION  MARRIAGE  AGE  PAY_0  PAY_2  PAY_3  PAY_4  \\\n",
      "0   1      20000    2          2         1   24      2      2     -1     -1   \n",
      "1   2     120000    2          2         2   26     -1      2      0      0   \n",
      "2   3      90000    2          2         2   34      0      0      0      0   \n",
      "3   4      50000    2          2         1   37      0      0      0      0   \n",
      "4   5      50000    1          2         1   57     -1      0     -1      0   \n",
      "\n",
      "   ...  BILL_AMT4  BILL_AMT5  BILL_AMT6  PAY_AMT1  PAY_AMT2  PAY_AMT3  \\\n",
      "0  ...          0          0          0         0       689         0   \n",
      "1  ...       3272       3455       3261         0      1000      1000   \n",
      "2  ...      14331      14948      15549      1518      1500      1000   \n",
      "3  ...      28314      28959      29547      2000      2019      1200   \n",
      "4  ...      20940      19146      19131      2000     36681     10000   \n",
      "\n",
      "   PAY_AMT4  PAY_AMT5  PAY_AMT6  DEFAULT  \n",
      "0         0         0         0        1  \n",
      "1      1000         0      2000        1  \n",
      "2      1000      1000      5000        0  \n",
      "3      1100      1069      1000        0  \n",
      "4      9000       689       679        0  \n",
      "\n",
      "[5 rows x 25 columns]\n"
     ]
    }
   ],
   "source": [
    "import sklearn\n",
    "import numpy as np\n",
    "from sklearn.neighbors import KNeighborsClassifier\n",
    "import pandas as pd\n",
    "from sklearn.model_selection import train_test_split\n",
    "from sklearn import preprocessing\n",
    "from sklearn.tree import DecisionTreeClassifier\n",
    "from sklearn.ensemble import RandomForestClassifier\n",
    "from sklearn.model_selection import cross_val_score, StratifiedKFold\n",
    "print(\"My name is {Zijie Lin}\")\n",
    "print(\"My NetID is: {zlin36}\")\n",
    "print(\"I hereby certify that I have read the University policy on Academic Integrity and that I am not in violation.\")\n",
    "df = pd.read_csv('ccdefault.csv')\n",
    "print (df.head())\n",
    "X, y = df.iloc[:,1:-1], df.iloc[:,-1]"
   ]
  },
  {
   "cell_type": "code",
   "execution_count": 4,
   "metadata": {},
   "outputs": [
    {
     "name": "stdout",
     "output_type": "stream",
     "text": [
      "n_estimators = 2\n",
      "[0.77748982 0.78711588 0.79118845 0.7862963  0.7862963  0.7837037\n",
      " 0.77666667 0.78918118 0.77436087 0.77102631]\n",
      "mean = 0.7823325471929014\n",
      "n_estimators = 10\n",
      "[0.80192521 0.79192892 0.81932618 0.79888889 0.80703704 0.79925926\n",
      " 0.80777778 0.80733605 0.80288996 0.79844387]\n",
      "mean = 0.8034813144286719\n",
      "n_estimators = 20\n",
      "[0.80118475 0.80636801 0.81858571 0.81296296 0.81555556 0.80888889\n",
      " 0.8162963  0.8095591  0.79733235 0.81141163]\n",
      "mean = 0.8098145246151104\n",
      "n_estimators = 200\n",
      "[0.81340244 0.80451685 0.82450944 0.81814815 0.82185185 0.81074074\n",
      " 0.82444444 0.81511671 0.80881808 0.81030011]\n",
      "mean = 0.8151848817100635\n"
     ]
    }
   ],
   "source": [
    "X_train, X_test, y_train, y_test = train_test_split(X, y,test_size=0.1, random_state=42)\n",
    "rfr = RandomForestClassifier(n_estimators = 2)\n",
    "rfr.fit(X_train, y_train)\n",
    "print ('n_estimators = 2')\n",
    "cvscore = cross_val_score(rfr, X_train, y_train, cv = 10)\n",
    "print(cvscore)\n",
    "print ('mean =', np.mean(cvscore))\n",
    "rfr = RandomForestClassifier(n_estimators = 10)\n",
    "rfr.fit(X_train, y_train)\n",
    "print ('n_estimators = 10')\n",
    "cvscore = cross_val_score(rfr, X_train, y_train, cv = 10)\n",
    "print(cvscore)\n",
    "print ('mean =', np.mean(cvscore))\n",
    "rfr = RandomForestClassifier(n_estimators = 20)\n",
    "print ('n_estimators = 20')\n",
    "cvscore = cross_val_score(rfr, X_train, y_train, cv = 10)\n",
    "print(cvscore)\n",
    "print ('mean =', np.mean(cvscore))\n",
    "rfr = RandomForestClassifier(n_estimators = 200)\n",
    "rfr.fit(X_train, y_train)\n",
    "print ('n_estimators = 200')\n",
    "cvscore = cross_val_score(rfr, X_train, y_train, cv = 10)\n",
    "print(cvscore)\n",
    "print ('mean =', np.mean(cvscore))"
   ]
  },
  {
   "cell_type": "code",
   "execution_count": 7,
   "metadata": {},
   "outputs": [
    {
     "data": {
      "image/png": "[encoded data removed]",
      "text/plain": [
       "<Figure size 1440x720 with 1 Axes>"
      ]
     },
     "metadata": {
      "needs_background": "light"
     },
     "output_type": "display_data"
    }
   ],
   "source": [
    "#feature importance\n",
    "import matplotlib.pyplot as plt\n",
    "import pandas as pd\n",
    "importances = pd.Series(data=rfr.feature_importances_,\n",
    "                        index= X_train.columns)\n",
    "\n",
    "# Sort importances\n",
    "importances_sorted = importances.sort_values()\n",
    "\n",
    "# Draw a horizontal barplot of importances_sorted\n",
    "plt.figure(figsize=(20,10))\n",
    "importances_sorted.plot(kind='barh', color='lightgreen')\n",
    "\n",
    "plt.title('Features Importances')\n",
    "plt.show()"
   ]
  },
  {
   "cell_type": "code",
   "execution_count": null,
   "metadata": {},
   "outputs": [],
   "source": []
  },
  {
   "cell_type": "code",
   "execution_count": null,
   "metadata": {},
   "outputs": [],
   "source": []
  }
 ],
 "metadata": {
  "kernelspec": {
   "display_name": "Python 3",
   "language": "python",
   "name": "python3"
  },
  "language_info": {
   "codemirror_mode": {
    "name": "ipython",
    "version": 3
   },
   "file_extension": ".py",
   "mimetype": "text/x-python",
   "name": "python",
   "nbconvert_exporter": "python",
   "pygments_lexer": "ipython3",
   "version": "3.7.3"
  }
 },
 "nbformat": 4,
 "nbformat_minor": 2
}
